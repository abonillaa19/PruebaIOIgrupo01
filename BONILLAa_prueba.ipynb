{
  "nbformat": 4,
  "nbformat_minor": 0,
  "metadata": {
    "colab": {
      "provenance": [],
      "toc_visible": true,
      "authorship_tag": "ABX9TyMzGZn5F8R9m3qgHnvSqIY7",
      "include_colab_link": true
    },
    "kernelspec": {
      "name": "python3",
      "display_name": "Python 3"
    },
    "language_info": {
      "name": "python"
    }
  },
  "cells": [
    {
      "cell_type": "markdown",
      "metadata": {
        "id": "view-in-github",
        "colab_type": "text"
      },
      "source": [
        "<a href=\"https://colab.research.google.com/github/abonillaa19/PruebaIOIgrupo01/blob/main/BONILLAa_prueba.ipynb\" target=\"_parent\"><img src=\"https://colab.research.google.com/assets/colab-badge.svg\" alt=\"Open In Colab\"/></a>"
      ]
    },
    {
      "cell_type": "markdown",
      "source": [
        "#esto es\n",
        "#una practica\n"
      ],
      "metadata": {
        "id": "FEbj5kM5e6cS"
      }
    },
    {
      "cell_type": "code",
      "execution_count": 1,
      "metadata": {
        "colab": {
          "base_uri": "https://localhost:8080/"
        },
        "id": "Asx3Rwi_cXgo",
        "outputId": "3b63192d-af7a-4a57-bacb-c8e22b6f3c07"
      },
      "outputs": [
        {
          "output_type": "stream",
          "name": "stdout",
          "text": [
            "Hola mundo\n"
          ]
        }
      ],
      "source": [
        "print(\"Hola mundo\")"
      ]
    },
    {
      "cell_type": "markdown",
      "source": [
        "#segundo ejercicio\n"
      ],
      "metadata": {
        "id": "ed2JV_QnfG64"
      }
    },
    {
      "cell_type": "code",
      "source": [
        "print(\"Aprender a programar es simple\")"
      ],
      "metadata": {
        "colab": {
          "base_uri": "https://localhost:8080/"
        },
        "id": "U3goRB2Fc-0L",
        "outputId": "19177ffe-7c10-4b29-a83e-884ad4bab33f"
      },
      "execution_count": 3,
      "outputs": [
        {
          "output_type": "stream",
          "name": "stdout",
          "text": [
            "Aprender a programar es simple\n"
          ]
        }
      ]
    },
    {
      "cell_type": "markdown",
      "source": [
        "#tercer ejercicio\n"
      ],
      "metadata": {
        "id": "nOj-9pNpl5p-"
      }
    },
    {
      "cell_type": "code",
      "source": [
        "print(\"practicaio\")"
      ],
      "metadata": {
        "colab": {
          "base_uri": "https://localhost:8080/"
        },
        "id": "YbX7Sj_lmAfK",
        "outputId": "8c3a63f2-2115-47ba-8283-a53a3341f638"
      },
      "execution_count": 4,
      "outputs": [
        {
          "output_type": "stream",
          "name": "stdout",
          "text": [
            "practicaio\n"
          ]
        }
      ]
    }
  ]
}